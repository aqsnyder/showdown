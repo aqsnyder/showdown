{
 "cells": [
  {
   "cell_type": "code",
   "execution_count": 5,
   "metadata": {},
   "outputs": [
    {
     "name": "stdout",
     "output_type": "stream",
     "text": [
      "Spot diameter at 30 ft: 12.74 mm\n",
      "Distance to place the lens from the laser diode: 4 mm\n"
     ]
    }
   ],
   "source": [
    "import math\n",
    "\n",
    "# Input parameters\n",
    "theta_deg = 8.5          # Beam divergence angle in degrees\n",
    "f_mm = 4                 # Focal length of the lens in mm\n",
    "D_lens_mm = 5            # Diameter of the lens in mm\n",
    "L_ft = 30                # Distance to target in feet\n",
    "lambda_nm = 650          # Wavelength in nm (typical for red laser diode)\n",
    "\n",
    "# Convert units to SI units\n",
    "theta_rad = math.radians(theta_deg)  # Convert angle to radians\n",
    "f = f_mm / 1000                      # Focal length in meters\n",
    "D_lens = D_lens_mm / 1000            # Lens diameter in meters\n",
    "L = L_ft * 0.3048                    # Convert feet to meters\n",
    "lambda_m = lambda_nm * 1e-9          # Wavelength in meters\n",
    "\n",
    "# Compute the collimated beam diameter after the lens\n",
    "D_c = 2 * f * math.tan(theta_rad / 2)   # Collimated beam diameter in meters\n",
    "w0 = D_c / 2                            # Beam waist radius in meters\n",
    "\n",
    "# Compute the Rayleigh range\n",
    "z0 = math.pi * w0**2 / lambda_m\n",
    "\n",
    "# Compute the spot size at distance L\n",
    "w_z = w0 * math.sqrt(1 + (L / z0)**2)\n",
    "\n",
    "# Compute the spot diameter\n",
    "D_spot = 2 * w_z     # Spot diameter in meters\n",
    "\n",
    "# Compute the lens placement distance (assuming lens is placed at focal length from laser diode)\n",
    "lens_distance_mm = f_mm   # Distance from laser diode to lens in mm\n",
    "\n",
    "# Output the results\n",
    "print(f\"Spot diameter at {L_ft} ft: {D_spot * 1000:.2f} mm\")\n",
    "print(f\"Distance to place the lens from the laser diode: {lens_distance_mm} mm\")\n"
   ]
  }
 ],
 "metadata": {
  "kernelspec": {
   "display_name": "showdown-YEHwwGKi",
   "language": "python",
   "name": "python3"
  },
  "language_info": {
   "codemirror_mode": {
    "name": "ipython",
    "version": 3
   },
   "file_extension": ".py",
   "mimetype": "text/x-python",
   "name": "python",
   "nbconvert_exporter": "python",
   "pygments_lexer": "ipython3",
   "version": "3.9.7"
  }
 },
 "nbformat": 4,
 "nbformat_minor": 2
}
