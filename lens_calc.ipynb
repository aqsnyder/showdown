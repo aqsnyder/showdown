{
 "cells": [
  {
   "cell_type": "code",
   "execution_count": null,
   "metadata": {},
   "outputs": [],
   "source": [
    "import math\n",
    "\n",
    "def calculate_focal_spot_size(divergence_angle_deg, focal_length):\n",
    "    # Convert divergence angle from degrees to radians\n",
    "    divergence_angle_rad = math.radians(divergence_angle_deg)\n",
    "    \n",
    "    # Calculate the beam radius at the focal point using the formula\n",
    "    beam_radius = focal_length * math.tan(divergence_angle_rad / 2)\n",
    "    \n",
    "    # The diameter of the focal spot is twice the radius\n",
    "    focal_spot_diameter = 2 * beam_radius\n",
    "    \n",
    "    return focal_spot_diameter\n",
    "\n",
    "# Input values\n",
    "divergence_angle_deg = 8.5  # in degrees, for parallel beam divergence\n",
    "focal_length = 18.0  # in mm, for the Edmund Optics lens\n",
    "\n",
    "# Calculate the focal spot size\n",
    "focal_spot_size = calculate_focal_spot_size(divergence_angle_deg, focal_length)\n",
    "\n",
    "# Print the result\n",
    "print(f\"Focal Spot Size: {focal_spot_size:.2f} mm\")\n"
   ]
  }
 ],
 "metadata": {
  "language_info": {
   "name": "python"
  }
 },
 "nbformat": 4,
 "nbformat_minor": 2
}
